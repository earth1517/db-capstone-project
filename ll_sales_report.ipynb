{
 "cells": [
  {
   "cell_type": "markdown",
   "metadata": {},
   "source": [
    "# Little Lemon analysis and sales report"
   ]
  },
  {
   "cell_type": "code",
   "execution_count": 7,
   "metadata": {},
   "outputs": [],
   "source": [
    "# Import MySQL Connector/Python \n",
    "import mysql.connector as connector\n",
    "\n",
    "from mysql.connector.pooling import MySQLConnectionPool\n",
    "from mysql.connector import Error"
   ]
  },
  {
   "cell_type": "markdown",
   "metadata": {},
   "source": [
    "# Prerequisites"
   ]
  },
  {
   "cell_type": "markdown",
   "metadata": {},
   "source": [
    "## Set Up Database"
   ]
  },
  {
   "cell_type": "code",
   "execution_count": 8,
   "metadata": {},
   "outputs": [
    {
     "name": "stdout",
     "output_type": "stream",
     "text": [
      "Connection pool created successfully\n",
      "The connection pool is created with a name:  pool_a\n",
      "The pool size is: 2\n"
     ]
    }
   ],
   "source": [
    "# Read password from text file\n",
    "with open('password.txt', 'r') as file:\n",
    "    password = file.read().strip()\n",
    "    \n",
    "dbconfig = {\n",
    "    \"database\": \"little_lemon_db\",\n",
    "    \"user\": \"root\",\n",
    "    \"password\": password\n",
    "}\n",
    "\n",
    "try:\n",
    "    pool_a = MySQLConnectionPool(pool_name=\"pool_a\",\n",
    "                                 pool_size=2,\n",
    "                                 **dbconfig)\n",
    "    print(\"Connection pool created successfully\")\n",
    "    print(\"The connection pool is created with a name: \",pool_a.pool_name)\n",
    "    print(\"The pool size is:\",pool_a.pool_size)\n",
    "except Error as e:\n",
    "    print(f\"Error while creating connection pool: {e}\")"
   ]
  },
  {
   "cell_type": "code",
   "execution_count": 9,
   "metadata": {},
   "outputs": [
    {
     "name": "stdout",
     "output_type": "stream",
     "text": [
      "Successfully obtained connection from pool_a\n",
      "Cursor object created successfully\n"
     ]
    }
   ],
   "source": [
    "# Establish a connection & Create a cursor\n",
    "try:\n",
    "    connection = pool_a.get_connection()\n",
    "    if connection.is_connected():\n",
    "        print(\"Successfully obtained connection from pool_a\")\n",
    "        cursor = connection.cursor()\n",
    "        print(\"Cursor object created successfully\")\n",
    "except Error as e:\n",
    "    print(f\"Error while obtaining connection from pool_a: {e}\")"
   ]
  },
  {
   "cell_type": "code",
   "execution_count": 10,
   "metadata": {},
   "outputs": [],
   "source": [
    "cursor.execute(\"DROP DATABASE IF EXISTS little_lemon_db\")\n",
    "cursor.execute(\"CREATE DATABASE little_lemon_db\")\n",
    "cursor.execute(\"USE little_lemon_db\")"
   ]
  },
  {
   "cell_type": "markdown",
   "metadata": {},
   "source": [
    "### Create Tables"
   ]
  },
  {
   "cell_type": "code",
   "execution_count": 11,
   "metadata": {},
   "outputs": [],
   "source": [
    "# MenuItems table\n",
    "create_menuitem_table = \"\"\"CREATE TABLE MenuItems (\n",
    "ItemID INT AUTO_INCREMENT,\n",
    "Name VARCHAR(200),\n",
    "Type VARCHAR(100),\n",
    "Price INT,\n",
    "PRIMARY KEY (ItemID)\n",
    ");\"\"\"\n",
    "\n",
    "# Menus table\n",
    "create_menu_table = \"\"\"CREATE TABLE Menus (\n",
    "MenuID INT,\n",
    "ItemID INT,\n",
    "Cuisine VARCHAR(100),\n",
    "PRIMARY KEY (MenuID,ItemID)\n",
    ");\"\"\"\n",
    "\n",
    "# Bookings table\n",
    "create_booking_table = \"\"\"CREATE TABLE Bookings (\n",
    "BookingID INT AUTO_INCREMENT,\n",
    "TableNo INT,\n",
    "GuestFirstName VARCHAR(100) NOT NULL,\n",
    "GuestLastName VARCHAR(100) NOT NULL,\n",
    "BookingSlot TIME NOT NULL,\n",
    "EmployeeID INT,\n",
    "PRIMARY KEY (BookingID)\n",
    ");\"\"\"\n",
    "\n",
    "# Orders table\n",
    "create_orders_table = \"\"\"CREATE TABLE Orders (\n",
    "OrderID INT,\n",
    "TableNo INT,\n",
    "MenuID INT,\n",
    "BookingID INT,\n",
    "BillAmount INT,\n",
    "Quantity INT,\n",
    "PRIMARY KEY (OrderID,TableNo)\n",
    ");\"\"\"\n",
    "\n",
    "# Employees table\n",
    "create_employees_table = \"\"\"CREATE TABLE Employees (\n",
    "EmployeeID INT AUTO_INCREMENT PRIMARY KEY,\n",
    "Name VARCHAR (255),\n",
    "Role VARCHAR (100),\n",
    "Address VARCHAR (255),\n",
    "Contact_Number INT,\n",
    "Email VARCHAR (255),\n",
    "Annual_Salary VARCHAR (100)\n",
    ");\"\"\""
   ]
  },
  {
   "cell_type": "code",
   "execution_count": 12,
   "metadata": {},
   "outputs": [],
   "source": [
    "# Create MenuItems table\n",
    "cursor.execute(create_menuitem_table)\n",
    "\n",
    "# Create Menu table\n",
    "cursor.execute(create_menu_table)\n",
    "\n",
    "# Create Bookings table\n",
    "cursor.execute(create_booking_table)\n",
    "\n",
    "# Create Orders table\n",
    "cursor.execute(create_orders_table)\n",
    "\n",
    "# Create Employees table\n",
    "cursor.execute(create_employees_table)"
   ]
  },
  {
   "cell_type": "markdown",
   "metadata": {},
   "source": [
    "### Insert Data"
   ]
  },
  {
   "cell_type": "code",
   "execution_count": 13,
   "metadata": {},
   "outputs": [],
   "source": [
    "#*******************************************************#\n",
    "# Insert query to populate \"MenuItems\" table:\n",
    "#*******************************************************#\n",
    "insert_menuitems=\"\"\"\n",
    "INSERT INTO MenuItems (ItemID, Name, Type, Price)\n",
    "VALUES\n",
    "(1, 'Olives','Starters',5),\n",
    "(2, 'Flatbread','Starters', 5),\n",
    "(3, 'Minestrone', 'Starters', 8),\n",
    "(4, 'Tomato bread','Starters', 8),\n",
    "(5, 'Falafel', 'Starters', 7),\n",
    "(6, 'Hummus', 'Starters', 5),\n",
    "(7, 'Greek salad', 'Main Courses', 15),\n",
    "(8, 'Bean soup', 'Main Courses', 12),\n",
    "(9, 'Pizza', 'Main Courses', 15),\n",
    "(10, 'Greek yoghurt','Desserts', 7),\n",
    "(11, 'Ice cream', 'Desserts', 6),\n",
    "(12, 'Cheesecake', 'Desserts', 4),\n",
    "(13, 'Athens White wine', 'Drinks', 25),\n",
    "(14, 'Corfu Red Wine', 'Drinks', 30),\n",
    "(15, 'Turkish Coffee', 'Drinks', 10),\n",
    "(16, 'Turkish Coffee', 'Drinks', 10),\n",
    "(17, 'Kabasa', 'Main Courses', 17);\"\"\"\n",
    "\n",
    "#*******************************************************#\n",
    "# Insert query to populate \"Menu\" table:\n",
    "#*******************************************************#\n",
    "insert_menu=\"\"\"\n",
    "INSERT INTO Menus (MenuID,ItemID,Cuisine)\n",
    "VALUES\n",
    "(1, 1, 'Greek'),\n",
    "(1, 7, 'Greek'),\n",
    "(1, 10, 'Greek'),\n",
    "(1, 13, 'Greek'),\n",
    "(2, 3, 'Italian'),\n",
    "(2, 9, 'Italian'),\n",
    "(2, 12, 'Italian'),\n",
    "(2, 15, 'Italian'),\n",
    "(3, 5, 'Turkish'),\n",
    "(3, 17, 'Turkish'),\n",
    "(3, 11, 'Turkish'),\n",
    "(3, 16, 'Turkish');\"\"\"\n",
    "\n",
    "#*******************************************************#\n",
    "# Insert query to populate \"Bookings\" table:\n",
    "#*******************************************************#\n",
    "insert_bookings=\"\"\"\n",
    "INSERT INTO Bookings (BookingID, TableNo, GuestFirstName, \n",
    "GuestLastName, BookingSlot, EmployeeID)\n",
    "VALUES\n",
    "(1, 12, 'Anna','Iversen','19:00:00',1),\n",
    "(2, 12, 'Joakim', 'Iversen', '19:00:00', 1),\n",
    "(3, 19, 'Vanessa', 'McCarthy', '15:00:00', 3),\n",
    "(4, 15, 'Marcos', 'Romero', '17:30:00', 4),\n",
    "(5, 5, 'Hiroki', 'Yamane', '18:30:00', 2),\n",
    "(6, 8, 'Diana', 'Pinto', '20:00:00', 5);\"\"\"\n",
    "\n",
    "#*******************************************************#\n",
    "# Insert query to populate \"Orders\" table:\n",
    "#*******************************************************#\n",
    "insert_orders=\"\"\"\n",
    "INSERT INTO Orders (OrderID, TableNo, MenuID, BookingID, Quantity, BillAmount)\n",
    "VALUES\n",
    "(1, 12, 1, 1, 2, 86),\n",
    "(2, 19, 2, 2, 1, 37),\n",
    "(3, 15, 2, 3, 1, 37),\n",
    "(4, 5, 3, 4, 1, 40),\n",
    "(5, 8, 1, 5, 1, 43);\"\"\"\n",
    "\n",
    "#*******************************************************#\n",
    "# Insert query to populate \"Employees\" table:\n",
    "#*******************************************************#\n",
    "insert_employees = \"\"\"\n",
    "INSERT INTO employees (EmployeeID, Name, Role, Address, Contact_Number, Email, Annual_Salary)\n",
    "VALUES\n",
    "(01,'Mario Gollini','Manager','724, Parsley Lane, Old Town, Chicago, IL',351258074,'Mario.g@littlelemon.com','$70,000'),\n",
    "(02,'Adrian Gollini','Assistant Manager','334, Dill Square, Lincoln Park, Chicago, IL',351474048,'Adrian.g@littlelemon.com','$65,000'),\n",
    "(03,'Giorgos Dioudis','Head Chef','879 Sage Street, West Loop, Chicago, IL',351970582,'Giorgos.d@littlelemon.com','$50,000'),\n",
    "(04,'Fatma Kaya','Assistant Chef','132  Bay Lane, Chicago, IL',351963569,'Fatma.k@littlelemon.com','$45,000'),\n",
    "(05,'Elena Salvai','Head Waiter','989 Thyme Square, EdgeWater, Chicago, IL',351074198,'Elena.s@littlelemon.com','$40,000'),\n",
    "(06,'John Millar','Receptionist','245 Dill Square, Lincoln Park, Chicago, IL',351584508,'John.m@littlelemon.com','$35,000');\"\"\"\n"
   ]
  },
  {
   "cell_type": "code",
   "execution_count": 14,
   "metadata": {},
   "outputs": [],
   "source": [
    "# Populate MenuItems table\n",
    "cursor.execute(insert_menuitems)\n",
    "connection.commit()\n",
    "\n",
    "# Populate MenuItems table\n",
    "cursor.execute(insert_menu)\n",
    "connection.commit()\n",
    "\n",
    "# Populate Bookings table\n",
    "cursor.execute(insert_bookings)\n",
    "connection.commit()\n",
    "\n",
    "# Populate Orders table\n",
    "cursor.execute(insert_orders)\n",
    "connection.commit()\n",
    "\n",
    "# Populate Employees table\n",
    "cursor.execute(insert_employees)\n",
    "connection.commit()"
   ]
  },
  {
   "cell_type": "markdown",
   "metadata": {},
   "source": [
    "## Stored Procedures"
   ]
  },
  {
   "cell_type": "markdown",
   "metadata": {},
   "source": [
    "### Implement a stored procedure called PeakHours\n",
    "\n",
    "Step one: Write a SQL CREATE PROCEDURE query for PeakHours\n",
    "\n",
    "- Use HOUR to extract the hour part from the BookingSlot.\n",
    "\n",
    "- Use COUNT on hour to count the number of bookings.\n",
    "\n",
    "- Use GROUP BY on booking hour.\n",
    "\n",
    "- Use ORDER BY on the number of bookings in descending order.\n",
    "\n",
    "Step two: Run the stored procedure query by invoking execute module on the cursor.\n",
    "\n",
    "Step three: Invoke callproc to call the stored procedure.\n",
    "\n",
    "Step four: Fetch the results in a variable called dataset.\n",
    "\n",
    "Step five: Extract the names of the columns.\n",
    "\n",
    "Step six: Print the names of the columns.\n",
    "\n",
    "Step seven: Print the sorted data using for loop."
   ]
  },
  {
   "cell_type": "code",
   "execution_count": 15,
   "metadata": {},
   "outputs": [
    {
     "name": "stdout",
     "output_type": "stream",
     "text": [
      "Stored procedure PeakHours created successfully\n",
      "Stored procedure PeakHours called successfully\n",
      "['BookingHour', 'NumberOfBookings']\n",
      "(19, 2)\n",
      "(15, 1)\n",
      "(17, 1)\n",
      "(18, 1)\n",
      "(20, 1)\n"
     ]
    }
   ],
   "source": [
    "create_procedure_query = \"\"\"\n",
    "CREATE PROCEDURE PeakHours()\n",
    "BEGIN\n",
    "    SELECT \n",
    "        HOUR(BookingSlot) AS BookingHour, \n",
    "        COUNT(*) AS NumberOfBookings\n",
    "    FROM \n",
    "        Bookings\n",
    "    GROUP BY \n",
    "        BookingHour\n",
    "    ORDER BY \n",
    "        NumberOfBookings DESC;\n",
    "END;\n",
    "\"\"\"\n",
    "\n",
    "cursor.execute(create_procedure_query)\n",
    "print(\"Stored procedure PeakHours created successfully\")\n",
    "\n",
    "# Invoke Stored Procedure\n",
    "cursor.callproc(\"PeakHours\")\n",
    "print(\"Stored procedure PeakHours called successfully\")\n",
    "\n",
    "# Fetch Results\n",
    "results = next(cursor.stored_results())\n",
    "dataset = results.fetchall()\n",
    "\n",
    "# Retrieve Column Names Using List Comprehension in a 'for' Loop\n",
    "columns = [column[0] for column in results.description]\n",
    "\n",
    "# Print Column Names\n",
    "print(columns)\n",
    "\n",
    "#  Print Sorted Data\n",
    "for data in dataset:\n",
    "    print(data)\n"
   ]
  },
  {
   "cell_type": "markdown",
   "metadata": {},
   "source": [
    "### Implement a stored procedure GuestStatus\n",
    "\n",
    "Step one: Write a SQL CREATE PROCEDURE query for GuestStatus.\n",
    "\n",
    "Step two: Combine the guest’s first and last name from the booking column using CONCAT. \n",
    "\n",
    "Step three: Use CASE to implement the following statuses for each guest’s order:\n",
    "\n",
    "- If the Role in the Employee table is Manager or Assistant Manager then the guest’s order status is Ready to pay\n",
    "\n",
    "- If the Role in the Employee table is Head Chef then the status is Ready to serve\n",
    "\n",
    "- If the Role in the Employee table is Assistant Chef then the status is Preparing Order\n",
    "\n",
    "- If the Role in the Employee table is Head Waiter then the status is Order served\n",
    "\n",
    "Step four: LEFT JOIN Bookings table with Employees ON EmployeeID\n",
    "\n",
    "Step five: Run the stored procedure query by invoking execute module on the cursor.\n",
    "\n",
    "Step six: Invoke callproc to call the stored procedure.\n",
    "\n",
    "Step seven: Fetch the results in a variable called dataset.\n",
    "\n",
    "Step eight: Extract the names of the columns.\n",
    "\n",
    "Step nine: Print the names of the columns.\n",
    "\n",
    "Step ten: Print the sorted data using for loop.\n",
    "\n",
    "Step eleven: Close the connection to return it back to the pool."
   ]
  },
  {
   "cell_type": "code",
   "execution_count": 16,
   "metadata": {},
   "outputs": [
    {
     "name": "stdout",
     "output_type": "stream",
     "text": [
      "Stored procedure GuestStatus created successfully\n",
      "Stored procedure GuestStatus called successfully\n",
      "['GuestName', 'OrderID', 'OrderStatus']\n",
      "('Anna Iversen', 1, 'Ready to pay')\n",
      "('Joakim Iversen', 2, 'Ready to pay')\n",
      "('Vanessa McCarthy', 3, 'Ready to serve')\n",
      "('Marcos Romero', 4, 'Preparing Order')\n",
      "('Hiroki Yamane', 5, 'Ready to pay')\n",
      "('Diana Pinto', None, 'Order served')\n"
     ]
    }
   ],
   "source": [
    "create_procedure_query = \"\"\"\n",
    "CREATE PROCEDURE GuestStatus()\n",
    "BEGIN\n",
    "    SELECT \n",
    "        CONCAT(Bookings.GuestFirstName, ' ', Bookings.GuestLastName) AS GuestName,\n",
    "        Orders.OrderID,\n",
    "        CASE \n",
    "            WHEN Employees.Role IN ('Manager', 'Assistant Manager') THEN 'Ready to pay'\n",
    "            WHEN Employees.Role = 'Head Chef' THEN 'Ready to serve'\n",
    "            WHEN Employees.Role = 'Assistant Chef' THEN 'Preparing Order'\n",
    "            WHEN Employees.Role = 'Head Waiter' THEN 'Order served'\n",
    "            ELSE 'Unknown'\n",
    "        END AS OrderStatus\n",
    "    FROM \n",
    "        Bookings\n",
    "    LEFT JOIN \n",
    "        Employees ON Bookings.EmployeeID = Employees.EmployeeID\n",
    "    LEFT JOIN \n",
    "        Orders ON Bookings.BookingID = Orders.BookingID;\n",
    "END;\n",
    "\"\"\"\n",
    "\n",
    "cursor.execute(create_procedure_query)\n",
    "print(\"Stored procedure GuestStatus created successfully\")\n",
    "\n",
    "cursor.callproc(\"GuestStatus\")\n",
    "print(\"Stored procedure GuestStatus called successfully\")\n",
    "\n",
    "# Fetch Results\n",
    "results = next(cursor.stored_results())\n",
    "dataset = results.fetchall()\n",
    "\n",
    "# Retrieve Column Names\n",
    "columns = [column[0] for column in results.description]\n",
    "\n",
    "# Print Column Names\n",
    "print(columns)\n",
    "\n",
    "# Print Sorted Data\n",
    "for data in dataset:\n",
    "    print(data)"
   ]
  },
  {
   "cell_type": "markdown",
   "metadata": {},
   "source": [
    "# Task 1: Establish Connection Pool\n",
    "\n",
    "Complete the following steps to establish a connection pool:\n",
    "\n",
    "- To create a connection pool, import MySQLConnectionPool class from MySQL Connector/Python.\n",
    "\n",
    "- To find the information on the error, import the Error class from MySQL Connector/Python.\n",
    "\n",
    "- Define your database configurations as a Python dictionary object called dbconfig.\n",
    "\n",
    "- Establish a connection pool [pool_name = pool_b] with two connections. \n",
    "\n",
    "- Implement error handling using a try-except block in case the connection fails. "
   ]
  },
  {
   "cell_type": "code",
   "execution_count": 17,
   "metadata": {},
   "outputs": [
    {
     "name": "stdout",
     "output_type": "stream",
     "text": [
      "Connection pool 'pool_b' created successfully\n"
     ]
    }
   ],
   "source": [
    "# Establish a connection pool with error handling\n",
    "try:\n",
    "    pool_b = MySQLConnectionPool(pool_name=\"pool_b\",\n",
    "                                 pool_size=2,\n",
    "                                 **dbconfig)\n",
    "    print(\"Connection pool 'pool_b' created successfully\")\n",
    "except Error as e:\n",
    "    print(f\"Error while creating connection pool: {e}\")\n"
   ]
  },
  {
   "cell_type": "markdown",
   "metadata": {},
   "source": [
    "# Task 2: Insert Data\n",
    "\n",
    "Three guests are trying to book dinner slots simultaneously. Get the connections from pool_b and insert the following data in the Bookings table:\n",
    "\n",
    "\n",
    "TIP: You need to add a connection to connect the third guest.\n",
    "\n",
    "\n",
    "Guest 1:\n",
    "\n",
    "Table Number: 8\n",
    "\n",
    "First Name: Anees\n",
    "\n",
    "Last Name: Java\n",
    "\n",
    "Booking Time: 18:00\n",
    "\n",
    "EmployeeID: 6\n",
    "\n",
    "\n",
    "Guest 2:\n",
    "\n",
    "Table Number: 5\n",
    "\n",
    "First Name: Bald\n",
    "\n",
    "Last Name: Vin\n",
    "\n",
    "Booking Time: 19:00\n",
    "\n",
    "EmployeeID: 6\n",
    "\n",
    "\n",
    "Guest 3:\n",
    "\n",
    "Table Number: 12\n",
    "\n",
    "First Name: Jay\n",
    "\n",
    "Last Name: Kon\n",
    "\n",
    "Booking Time: 19:30 \n",
    "\n",
    "EmployeeID: 6\n",
    "\n",
    "\n",
    "Return all the connections back to the pool. \n",
    "\n",
    "\n",
    "TIP: The pool size is two. However, you have three connected users. You can only return two connections. Returning a third connection will raise a PoolError. Use try-except to print the error message. "
   ]
  },
  {
   "cell_type": "code",
   "execution_count": 18,
   "metadata": {},
   "outputs": [],
   "source": [
    "def get_connection(pool):\n",
    "    try:\n",
    "        return pool.get_connection()\n",
    "    except Error:\n",
    "        print(\"No more connections are available.\")\n",
    "        print(\"Adding new connection to the pool.\")\n",
    "        connection = connector.connect(user=\"root\", password=password, database=\"little_lemon_db\")\n",
    "        pool.add_connection(cnx=connection)\n",
    "        print(\"A new connection is added to the pool.\\n\")\n",
    "        return pool.get_connection()\n",
    "\n",
    "def add_booking(connection, table_no, first_name, last_name, booking_time, employee_id):\n",
    "    cursor = connection.cursor()\n",
    "    booking_query = \"\"\"\n",
    "    REPLACE INTO Bookings (TableNo, GuestFirstName, GuestLastName, BookingSlot, EmployeeID)\n",
    "    VALUES (%s, %s, %s, %s, %s)\n",
    "    \"\"\"\n",
    "    cursor.execute(booking_query, (table_no, first_name, last_name, booking_time, employee_id))\n",
    "    connection.commit()\n",
    "    print(f\"A new booking is added for {first_name} {last_name} in the 'Bookings' table.\")\n",
    "    cursor.close()\n",
    "\n",
    "def close_connection(connection):\n",
    "    try:\n",
    "        connection.close()\n",
    "        print(\"Connection returned to the pool\")\n",
    "    except Error as er:\n",
    "        print(\"\\nConnection can't be returned to the pool\")\n",
    "        print(\"Error message:\", er.msg)"
   ]
  },
  {
   "cell_type": "code",
   "execution_count": 19,
   "metadata": {},
   "outputs": [
    {
     "name": "stdout",
     "output_type": "stream",
     "text": [
      "A new booking is added for Anees Java in the 'Bookings' table.\n",
      "A new booking is added for Bald Vin in the 'Bookings' table.\n",
      "No more connections are available.\n",
      "Adding new connection to the pool.\n",
      "A new connection is added to the pool.\n",
      "\n",
      "A new booking is added for Jay Kon in the 'Bookings' table.\n",
      "Connection returned to the pool\n",
      "Connection returned to the pool\n",
      "\n",
      "Connection can't be returned to the pool\n",
      "Error message: Failed adding connection; queue is full\n"
     ]
    }
   ],
   "source": [
    "# Guest details\n",
    "guest_data = [\n",
    "    (8, 'Anees', 'Java', '18:00:00', 6),\n",
    "    (5, 'Bald', 'Vin', '19:00:00', 6),\n",
    "    (12, 'Jay', 'Kon', '19:30:00', 6)\n",
    "]\n",
    "\n",
    "# Connections list\n",
    "connections = []\n",
    "\n",
    "# Connect guests and add bookings\n",
    "for table_no, first_name, last_name, booking_time, employee_id in guest_data:\n",
    "    connection = get_connection(pool_b)\n",
    "    connections.append(connection)\n",
    "    add_booking(connection, table_no, first_name, last_name, booking_time, employee_id)\n",
    "\n",
    "# Return connections to the pool\n",
    "for connection in connections:\n",
    "    close_connection(connection)\n"
   ]
  },
  {
   "cell_type": "code",
   "execution_count": 20,
   "metadata": {},
   "outputs": [
    {
     "data": {
      "text/plain": [
       "[<mysql.connector.pooling.PooledMySQLConnection at 0x20d195c5a50>,\n",
       " <mysql.connector.pooling.PooledMySQLConnection at 0x20d18cd3610>,\n",
       " <mysql.connector.pooling.PooledMySQLConnection at 0x20d196d7010>]"
      ]
     },
     "execution_count": 20,
     "metadata": {},
     "output_type": "execute_result"
    }
   ],
   "source": [
    "connections"
   ]
  },
  {
   "cell_type": "markdown",
   "metadata": {},
   "source": [
    "# Task 3: Create Report\n",
    "\n",
    "Create a report containing the following information:\n",
    "\n",
    "- The name and EmployeeID of the Little Lemon manager.\n",
    "\n",
    "- The name and role of the employee who receives the highest salary.\n",
    "\n",
    "- The number of guests booked between 18:00 and 20:00.\n",
    "\n",
    "- The full name and BookingID of all guests waiting to be seated with the receptionist in sorted order with respect to their BookingSlot."
   ]
  },
  {
   "cell_type": "code",
   "execution_count": 21,
   "metadata": {},
   "outputs": [
    {
     "name": "stdout",
     "output_type": "stream",
     "text": [
      "Getting a connection from the pool.\n",
      "The object \"connection\" is created with a connection link from the pool_b\n",
      "Creating a cursor object to communicate with the database.\n",
      "The cursor object \"cursor\" is created.\n"
     ]
    }
   ],
   "source": [
    "# Get a connection from the pool and create a cursor object\n",
    "print(\"Getting a connection from the pool.\")\n",
    "connection = pool_b.get_connection()\n",
    "print(\"\"\"The object \"connection\" is created with a connection link from the pool_b\"\"\")\n",
    "print(\"\"\"Creating a cursor object to communicate with the database.\"\"\")\n",
    "cursor = connection.cursor()\n",
    "print(\"\"\"The cursor object \"cursor\" is created.\"\"\")"
   ]
  },
  {
   "cell_type": "markdown",
   "metadata": {},
   "source": [
    "The name and EmployeeID of the Little Lemon manager."
   ]
  },
  {
   "cell_type": "code",
   "execution_count": 22,
   "metadata": {},
   "outputs": [
    {
     "name": "stdout",
     "output_type": "stream",
     "text": [
      "Manager Info:\n",
      "('Name', 'EmployeeID')\n",
      "('Mario Gollini', 1)\n"
     ]
    }
   ],
   "source": [
    "# The name and EmployeeID of the Little Lemon manager.\n",
    "cursor.execute(\"\"\"\n",
    "SELECT Name, EmployeeID \n",
    "FROM Employees \n",
    "WHERE Role = 'Manager'\n",
    "\"\"\")\n",
    "results = cursor.fetchall()\n",
    "columns = cursor.column_names\n",
    "print(\"Manager Info:\")\n",
    "print(columns)\n",
    "for result in results:\n",
    "    print(result)"
   ]
  },
  {
   "cell_type": "markdown",
   "metadata": {},
   "source": [
    "The name and role of the employee who receives the highest salary."
   ]
  },
  {
   "cell_type": "code",
   "execution_count": 23,
   "metadata": {},
   "outputs": [
    {
     "name": "stdout",
     "output_type": "stream",
     "text": [
      "Highest Salary Employee Info:\n",
      "('Name', 'Role')\n",
      "('Mario Gollini', 'Manager')\n"
     ]
    }
   ],
   "source": [
    "cursor.execute(\"\"\"\n",
    "SELECT Name, Role \n",
    "FROM Employees \n",
    "ORDER BY Annual_Salary DESC \n",
    "LIMIT 1\n",
    "\"\"\")\n",
    "results = cursor.fetchall()\n",
    "columns = cursor.column_names\n",
    "print(\"Highest Salary Employee Info:\")\n",
    "print(columns)\n",
    "for result in results:\n",
    "    print(result)"
   ]
  },
  {
   "cell_type": "markdown",
   "metadata": {},
   "source": [
    "The number of guests booked between 18:00 and 20:00."
   ]
  },
  {
   "cell_type": "code",
   "execution_count": 24,
   "metadata": {},
   "outputs": [
    {
     "name": "stdout",
     "output_type": "stream",
     "text": [
      "Number of Guests Booked Between 18:00 and 20:00:\n",
      "('n_booking_between_18_20_hrs',)\n",
      "(7,)\n"
     ]
    }
   ],
   "source": [
    "cursor.execute(\"\"\"\n",
    "SELECT COUNT(BookingID) AS n_booking_between_18_20_hrs\n",
    "FROM Bookings \n",
    "WHERE BookingSlot BETWEEN '18:00:00' AND '20:00:00'\n",
    "\"\"\")\n",
    "results = cursor.fetchall()\n",
    "columns = cursor.column_names\n",
    "print(\"Number of Guests Booked Between 18:00 and 20:00:\")\n",
    "print(columns)\n",
    "for result in results:\n",
    "    print(result)"
   ]
  },
  {
   "cell_type": "markdown",
   "metadata": {},
   "source": [
    "The full name and BookingID of all guests waiting to be seated with the receptionist in sorted order with respect to their BookingSlot."
   ]
  },
  {
   "cell_type": "code",
   "execution_count": 25,
   "metadata": {},
   "outputs": [
    {
     "name": "stdout",
     "output_type": "stream",
     "text": [
      "Guests Waiting to be Seated:\n",
      "('ID', 'GuestName', 'Employee')\n",
      "(7, 'Anees Java', 'Receptionist')\n",
      "(8, 'Bald Vin', 'Receptionist')\n",
      "(9, 'Jay Kon', 'Receptionist')\n"
     ]
    }
   ],
   "source": [
    "cursor.execute(\"\"\"\n",
    "SELECT \n",
    "    Bookings.BookingID AS ID,  \n",
    "    CONCAT(GuestFirstName, ' ', GuestLastName) AS GuestName, \n",
    "    Role AS Employee\n",
    "FROM Bookings \n",
    "LEFT JOIN Employees \n",
    "ON Employees.EmployeeID = Bookings.EmployeeID\n",
    "WHERE Employees.Role = 'Receptionist'\n",
    "ORDER BY BookingSlot ASC\n",
    "\"\"\")\n",
    "results = cursor.fetchall()\n",
    "columns = cursor.column_names\n",
    "print(\"Guests Waiting to be Seated:\")\n",
    "print(columns)\n",
    "for result in results:\n",
    "    print(result)"
   ]
  },
  {
   "cell_type": "markdown",
   "metadata": {},
   "source": [
    "# Task 4: Create Stored Procedure\n",
    "\n",
    "Create a stored procedure called BasicSalesReport that returns the following statistics. \n",
    "\n",
    "- Total sales\n",
    "\n",
    "- Average sale\n",
    "\n",
    "- Minimum bill paid\n",
    "\n",
    "- Maximum bill paid"
   ]
  },
  {
   "cell_type": "code",
   "execution_count": 26,
   "metadata": {},
   "outputs": [
    {
     "name": "stdout",
     "output_type": "stream",
     "text": [
      "Stored procedure BasicSalesReport created successfully.\n"
     ]
    }
   ],
   "source": [
    "# Create a stored procedure named BasicSalesReport. \n",
    "cursor.execute(\"DROP PROCEDURE IF EXISTS BasicSalesReport;\")\n",
    "\n",
    "stored_procedure_query=\"\"\"\n",
    "CREATE PROCEDURE BasicSalesReport()\n",
    "BEGIN\n",
    "    SELECT \n",
    "        SUM(BillAmount) AS TotalSales,\n",
    "        AVG(BillAmount) AS AverageSale,\n",
    "        MIN(BillAmount) AS MinimumBillPaid,\n",
    "        MAX(BillAmount) AS MaximumBillPaid\n",
    "    FROM Orders;\n",
    "END\n",
    "\"\"\"\n",
    "\n",
    "# Execute the query\n",
    "cursor.execute(stored_procedure_query)\n",
    "print(\"Stored procedure BasicSalesReport created successfully.\")"
   ]
  },
  {
   "cell_type": "code",
   "execution_count": 27,
   "metadata": {},
   "outputs": [
    {
     "name": "stdout",
     "output_type": "stream",
     "text": [
      "Today's sales report:\n",
      "\tTotalSales: 243\n",
      "\tAverageSale: 48.6000\n",
      "\tMinimumBillPaid: 37\n",
      "\tMaximumBillPaid: 86\n"
     ]
    }
   ],
   "source": [
    "# Call the stored procedure with its name\n",
    "cursor.callproc(\"BasicSalesReport\")\n",
    "\n",
    "# Retrieve records in \"dataset\"\n",
    "results = next(cursor.stored_results())\n",
    "dataset = results.fetchall()\n",
    "\n",
    "# Retrieve column names using list comprehension in a for loop\n",
    "cols = [column[0] for column in results.description]\n",
    "\n",
    "print(\"Today's sales report:\")\n",
    "for result in dataset:\n",
    "    print(f\"\\t{cols[0]}: {result[0]}\")\n",
    "    print(f\"\\t{cols[1]}: {result[1]}\")\n",
    "    print(f\"\\t{cols[2]}: {result[2]}\")\n",
    "    print(f\"\\t{cols[3]}: {result[3]}\")"
   ]
  },
  {
   "cell_type": "markdown",
   "metadata": {},
   "source": [
    "# Task 5: Display Data with Buffered Cursor \n",
    "\n",
    "Little Lemon needs to display the next three upcoming bookings from the Bookings table on the kitchen screen to notify their chefs that the orders are due. \n",
    "\n",
    "- Get a connection from the pool.\n",
    "\n",
    "- Create a buffered cursor.\n",
    "\n",
    "- Combine the data from the Bookings and the Employee tables, sort the retrieved records in ascending order, and display the information of the first three guests. \n",
    "\n",
    "- Return the connection back to the pool.\n",
    "\n",
    "The output should be as follows:\n",
    "\n",
    "[BookingSlot]\n",
    "\n",
    "[Guest_name]\n",
    "\n",
    "[Assigned to: Employee Name [Employee Role]]"
   ]
  },
  {
   "cell_type": "code",
   "execution_count": 28,
   "metadata": {},
   "outputs": [
    {
     "name": "stdout",
     "output_type": "stream",
     "text": [
      "Got a connection from the pool\n",
      "Buffered cursor created\n"
     ]
    }
   ],
   "source": [
    "# Get a connection from the pool\n",
    "connection = pool_b.get_connection()\n",
    "print(\"Got a connection from the pool\")\n",
    "\n",
    "# Create a buffered cursor\n",
    "cursor = connection.cursor(buffered=True)\n",
    "print(\"Buffered cursor created\")"
   ]
  },
  {
   "cell_type": "code",
   "execution_count": 29,
   "metadata": {},
   "outputs": [
    {
     "name": "stdout",
     "output_type": "stream",
     "text": [
      "Next three upcoming bookings:\n",
      "[BookingSlot: 15:00:00]\n",
      "[Guest_name: Vanessa McCarthy]\n",
      "[Assigned to: Giorgos Dioudis [Head Chef]]\n",
      "\n",
      "[BookingSlot: 17:30:00]\n",
      "[Guest_name: Marcos Romero]\n",
      "[Assigned to: Fatma Kaya [Assistant Chef]]\n",
      "\n",
      "[BookingSlot: 18:00:00]\n",
      "[Guest_name: Anees Java]\n",
      "[Assigned to: John Millar [Receptionist]]\n",
      "\n"
     ]
    }
   ],
   "source": [
    "# Query to combine data from Bookings and Employees tables\n",
    "sql_query = \"\"\"\n",
    "SELECT \n",
    "    Bookings.BookingSlot,\n",
    "    CONCAT(Bookings.GuestFirstName,\" \",Bookings.GuestLastName) AS Guest_Name,\n",
    "    Employees.Name AS Emp_Name,\n",
    "    Employees.Role AS Emp_Role\n",
    "FROM \n",
    "    Bookings\n",
    "INNER JOIN \n",
    "    Employees ON Bookings.EmployeeID = Employees.EmployeeID\n",
    "ORDER BY \n",
    "    Bookings.BookingSlot ASC\n",
    "LIMIT 3;\n",
    "\"\"\"\n",
    "cursor.execute(sql_query)\n",
    "results = cursor.fetchall()\n",
    "\n",
    "print(\"Next three upcoming bookings:\")\n",
    "for result in results:\n",
    "    print(f\"[BookingSlot: {result[0]}]\")\n",
    "    print(f\"[Guest_name: {result[1]}]\")\n",
    "    print(f\"[Assigned to: {result[2]} [{result[3]}]]\\n\")"
   ]
  },
  {
   "cell_type": "code",
   "execution_count": 30,
   "metadata": {},
   "outputs": [
    {
     "name": "stdout",
     "output_type": "stream",
     "text": [
      "Connection closed and returned to the pool\n"
     ]
    }
   ],
   "source": [
    "if connection.is_connected():\n",
    "    cursor.close()\n",
    "    connection.close()\n",
    "    print(\"Connection closed and returned to the pool\")"
   ]
  }
 ],
 "metadata": {
  "kernelspec": {
   "display_name": "Python 3",
   "language": "python",
   "name": "python3"
  },
  "language_info": {
   "codemirror_mode": {
    "name": "ipython",
    "version": 3
   },
   "file_extension": ".py",
   "mimetype": "text/x-python",
   "name": "python",
   "nbconvert_exporter": "python",
   "pygments_lexer": "ipython3",
   "version": "3.11.8"
  }
 },
 "nbformat": 4,
 "nbformat_minor": 2
}
